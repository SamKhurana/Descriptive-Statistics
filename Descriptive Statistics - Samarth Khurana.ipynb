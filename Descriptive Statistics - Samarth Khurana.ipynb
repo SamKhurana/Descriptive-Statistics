{
 "cells": [
  {
   "cell_type": "markdown",
   "id": "933a3d49",
   "metadata": {
    "heading_collapsed": true
   },
   "source": [
    "# Importing required Libraries"
   ]
  },
  {
   "cell_type": "code",
   "execution_count": 1,
   "id": "b7d22eb9",
   "metadata": {
    "hidden": true
   },
   "outputs": [],
   "source": [
    "import pandas as pd\n",
    "import numpy as np\n",
    "import matplotlib.pyplot as plt\n",
    "import seaborn as sns\n",
    "import statistics\n",
    "import scipy.stats\n",
    "import math"
   ]
  },
  {
   "cell_type": "markdown",
   "id": "cc077859",
   "metadata": {
    "heading_collapsed": true
   },
   "source": [
    "#  Arithmetic Mean "
   ]
  },
  {
   "cell_type": "code",
   "execution_count": 2,
   "id": "af22cb92",
   "metadata": {
    "hidden": true
   },
   "outputs": [],
   "source": [
    "x = [31,142,5,86,176,3,11,115,0,5,9,153,13,109,34,11,0,24,50,28]"
   ]
  },
  {
   "cell_type": "code",
   "execution_count": 3,
   "id": "8f5d4920",
   "metadata": {
    "hidden": true
   },
   "outputs": [
    {
     "name": "stdout",
     "output_type": "stream",
     "text": [
      "The mean of the given data is 50.25\n"
     ]
    }
   ],
   "source": [
    "mean = sum(x)/len(x)\n",
    "print(\"The mean of the given data is\", mean)"
   ]
  },
  {
   "cell_type": "markdown",
   "id": "2e3d4c56",
   "metadata": {
    "heading_collapsed": true
   },
   "source": [
    "# Harmonic Mean"
   ]
  },
  {
   "cell_type": "code",
   "execution_count": 20,
   "id": "c21e91a2",
   "metadata": {
    "hidden": true
   },
   "outputs": [],
   "source": [
    "x = [7, 15, 1, 3, 41.9]"
   ]
  },
  {
   "cell_type": "markdown",
   "id": "6b4ac2a4",
   "metadata": {
    "hidden": true
   },
   "source": [
    "Harmonic mean using statistics library"
   ]
  },
  {
   "cell_type": "code",
   "execution_count": 21,
   "id": "eddfd87e",
   "metadata": {
    "hidden": true
   },
   "outputs": [
    {
     "data": {
      "text/plain": [
       "3.19137360724234"
      ]
     },
     "execution_count": 21,
     "metadata": {},
     "output_type": "execute_result"
    }
   ],
   "source": [
    "hm = statistics.harmonic_mean(x)\n",
    "hm"
   ]
  },
  {
   "cell_type": "markdown",
   "id": "5706bce1",
   "metadata": {
    "hidden": true
   },
   "source": [
    "Harmonic mean using scipy.stats "
   ]
  },
  {
   "cell_type": "code",
   "execution_count": 22,
   "id": "8e1f60a0",
   "metadata": {
    "hidden": true
   },
   "outputs": [
    {
     "data": {
      "text/plain": [
       "3.19137360724234"
      ]
     },
     "execution_count": 22,
     "metadata": {},
     "output_type": "execute_result"
    }
   ],
   "source": [
    "hmean = scipy.stats.hmean(x)\n",
    "hmean"
   ]
  },
  {
   "cell_type": "markdown",
   "id": "23926b77",
   "metadata": {
    "heading_collapsed": true
   },
   "source": [
    "# Geometric Mean"
   ]
  },
  {
   "cell_type": "code",
   "execution_count": 24,
   "id": "d47857af",
   "metadata": {
    "hidden": true
   },
   "outputs": [
    {
     "name": "stdout",
     "output_type": "stream",
     "text": [
      "The Geometric data is 6.669678735336031\n"
     ]
    }
   ],
   "source": [
    "gm = scipy.stats.gmean(x)\n",
    "print(\"The Geometric data is\", gm)"
   ]
  },
  {
   "cell_type": "markdown",
   "id": "05834c63",
   "metadata": {
    "heading_collapsed": true
   },
   "source": [
    "# Median"
   ]
  },
  {
   "cell_type": "code",
   "execution_count": 32,
   "id": "c32c6930",
   "metadata": {
    "hidden": true
   },
   "outputs": [],
   "source": [
    "z = [7, 15, 1, 3, 41.9]"
   ]
  },
  {
   "cell_type": "markdown",
   "id": "9904d46c",
   "metadata": {
    "hidden": true
   },
   "source": [
    "Using Statistic Library"
   ]
  },
  {
   "cell_type": "code",
   "execution_count": 33,
   "id": "9a7da927",
   "metadata": {
    "hidden": true
   },
   "outputs": [
    {
     "name": "stdout",
     "output_type": "stream",
     "text": [
      "The median of the data is 7\n"
     ]
    }
   ],
   "source": [
    "med = statistics.median(z)\n",
    "print (\"The median of the data is\", med)"
   ]
  },
  {
   "cell_type": "markdown",
   "id": "7baa1967",
   "metadata": {
    "hidden": true
   },
   "source": [
    "median using statistics library"
   ]
  },
  {
   "cell_type": "markdown",
   "id": "8bb33054",
   "metadata": {
    "hidden": true
   },
   "source": [
    "median_low() and median_high() are two more function related to the median in the Python statistics library.\n",
    "\n",
    "If the number of elements is odd, then there is a single middle value, so these functions behave just like median().\n",
    "If the number of elements is even, then there are two middle values. In this case, median_low() returns the lower and median_high() the higher middle value."
   ]
  },
  {
   "cell_type": "code",
   "execution_count": 38,
   "id": "bb08f810",
   "metadata": {
    "hidden": true
   },
   "outputs": [],
   "source": [
    "a = [7, 15, 1, 3]"
   ]
  },
  {
   "cell_type": "code",
   "execution_count": 46,
   "id": "eaeb106e",
   "metadata": {
    "hidden": true
   },
   "outputs": [
    {
     "data": {
      "text/plain": [
       "3"
      ]
     },
     "execution_count": 46,
     "metadata": {},
     "output_type": "execute_result"
    }
   ],
   "source": [
    "med_low = statistics.median_low(a)\n",
    "med_low"
   ]
  },
  {
   "cell_type": "code",
   "execution_count": 40,
   "id": "a9e20358",
   "metadata": {
    "hidden": true
   },
   "outputs": [
    {
     "data": {
      "text/plain": [
       "7"
      ]
     },
     "execution_count": 40,
     "metadata": {},
     "output_type": "execute_result"
    }
   ],
   "source": [
    "med_high = statistics.median_high(a)\n",
    "med_high"
   ]
  },
  {
   "cell_type": "markdown",
   "id": "db857438",
   "metadata": {
    "hidden": true
   },
   "source": [
    "median using Numpy library"
   ]
  },
  {
   "cell_type": "code",
   "execution_count": 42,
   "id": "f7651ed4",
   "metadata": {
    "hidden": true
   },
   "outputs": [
    {
     "data": {
      "text/plain": [
       "5.0"
      ]
     },
     "execution_count": 42,
     "metadata": {},
     "output_type": "execute_result"
    }
   ],
   "source": [
    "median = np.median(a)\n",
    "median"
   ]
  },
  {
   "cell_type": "markdown",
   "id": "b9332e3c",
   "metadata": {
    "hidden": true
   },
   "source": [
    "However, if there is a nan value in our dataset, then np.median() return nan. If this behaviour is not what we want, then we can use nanmedian() to ignore all nan values"
   ]
  },
  {
   "cell_type": "markdown",
   "id": "ea3a366c",
   "metadata": {
    "heading_collapsed": true
   },
   "source": [
    "# Mode"
   ]
  },
  {
   "cell_type": "code",
   "execution_count": 43,
   "id": "ecc41222",
   "metadata": {
    "hidden": true
   },
   "outputs": [],
   "source": [
    "u = [12, 13, 12, 81, 32]"
   ]
  },
  {
   "cell_type": "markdown",
   "id": "d3b5a2bd",
   "metadata": {
    "hidden": true
   },
   "source": [
    " Mode using Statistics Library"
   ]
  },
  {
   "cell_type": "code",
   "execution_count": 44,
   "id": "52077d67",
   "metadata": {
    "hidden": true
   },
   "outputs": [
    {
     "data": {
      "text/plain": [
       "12"
      ]
     },
     "execution_count": 44,
     "metadata": {},
     "output_type": "execute_result"
    }
   ],
   "source": [
    "mod = statistics.mode(u)\n",
    "mod"
   ]
  },
  {
   "cell_type": "markdown",
   "id": "9858f431",
   "metadata": {
    "hidden": true
   },
   "source": [
    " Mode using scipy.stats library"
   ]
  },
  {
   "cell_type": "code",
   "execution_count": 47,
   "id": "fc660503",
   "metadata": {
    "hidden": true
   },
   "outputs": [
    {
     "name": "stdout",
     "output_type": "stream",
     "text": [
      "The mode of the dataset: ModeResult(mode=array([12]), count=array([2]))\n"
     ]
    }
   ],
   "source": [
    "mode = scipy.stats.mode(u)\n",
    "print(\"The mode of the dataset:\", mode)"
   ]
  },
  {
   "cell_type": "markdown",
   "id": "6ee35e3a",
   "metadata": {
    "heading_collapsed": true
   },
   "source": [
    "# Variance and Standard Deviation"
   ]
  },
  {
   "cell_type": "code",
   "execution_count": 29,
   "id": "1fd51940",
   "metadata": {
    "hidden": true
   },
   "outputs": [
    {
     "name": "stdout",
     "output_type": "stream",
     "text": [
      "The variance of the data is 16.753751111111125\n"
     ]
    }
   ],
   "source": [
    "x = [72.36, 71.89, 71.65, 71.06, 62.20, 63.82, 64.17, 64.41, 64.57, 64.49]\n",
    "mean = np.mean(x)\n",
    "var = np.var(x, ddof = 1)\n",
    "print( \"The variance of the data is\", var)"
   ]
  },
  {
   "cell_type": "markdown",
   "id": "4a55e7bf",
   "metadata": {
    "hidden": true
   },
   "source": [
    "In standard statistical practice, ddof=1 provides an unbiased estimator of the variance of a hypothetical infinite population. ddof=0 provides a maximum likelihood estimate of the variance for normally distributed variables."
   ]
  },
  {
   "cell_type": "code",
   "execution_count": 30,
   "id": "7764e518",
   "metadata": {
    "hidden": true
   },
   "outputs": [
    {
     "data": {
      "text/plain": [
       "4.093134631442157"
      ]
     },
     "execution_count": 30,
     "metadata": {},
     "output_type": "execute_result"
    }
   ],
   "source": [
    "sd = var**0.5\n",
    "sd"
   ]
  },
  {
   "cell_type": "markdown",
   "id": "975f331b",
   "metadata": {
    "heading_collapsed": true
   },
   "source": [
    "# Covariance and Correlation Coeffecient "
   ]
  },
  {
   "cell_type": "code",
   "execution_count": 7,
   "id": "df108b06",
   "metadata": {
    "hidden": true
   },
   "outputs": [],
   "source": [
    "tot_bill = [16.99, 10.34, 21.01, 23.68, 24.59, 25.29, 8.77, 26.88, 15.04, 14.78]\n",
    "tip = [1.01, 1.66, 3.5, 3.31, 3.61, 4.71, 2, 3.12, 1.96, 3.23]"
   ]
  },
  {
   "cell_type": "code",
   "execution_count": 11,
   "id": "9740d78a",
   "metadata": {
    "hidden": true
   },
   "outputs": [
    {
     "data": {
      "text/plain": [
       "array([[41.70400111,  5.11691444],\n",
       "       [ 5.11691444,  1.24329889]])"
      ]
     },
     "execution_count": 11,
     "metadata": {},
     "output_type": "execute_result"
    }
   ],
   "source": [
    "cov = np.cov(tot_bill,tip)\n",
    "cov"
   ]
  },
  {
   "cell_type": "markdown",
   "id": "d2bd48e3",
   "metadata": {
    "hidden": true
   },
   "source": [
    "The Covariance of tot_bill and tip is 5.116914444444444"
   ]
  },
  {
   "cell_type": "code",
   "execution_count": 12,
   "id": "c495e36e",
   "metadata": {
    "hidden": true
   },
   "outputs": [
    {
     "data": {
      "text/plain": [
       "array([[1.        , 0.71061034],\n",
       "       [0.71061034, 1.        ]])"
      ]
     },
     "execution_count": 12,
     "metadata": {},
     "output_type": "execute_result"
    }
   ],
   "source": [
    "corcoef = np.corrcoef(tot_bill,tip)\n",
    "corcoef"
   ]
  },
  {
   "cell_type": "markdown",
   "id": "65abd5db",
   "metadata": {
    "hidden": true
   },
   "source": [
    "Since, the correlation coefficient is greater 0 that indicates there is positive correlation between total bill and tip. "
   ]
  }
 ],
 "metadata": {
  "kernelspec": {
   "display_name": "Python 3 (ipykernel)",
   "language": "python",
   "name": "python3"
  },
  "language_info": {
   "codemirror_mode": {
    "name": "ipython",
    "version": 3
   },
   "file_extension": ".py",
   "mimetype": "text/x-python",
   "name": "python",
   "nbconvert_exporter": "python",
   "pygments_lexer": "ipython3",
   "version": "3.9.12"
  }
 },
 "nbformat": 4,
 "nbformat_minor": 5
}
